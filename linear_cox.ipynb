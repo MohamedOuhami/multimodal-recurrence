{
 "cells": [
  {
   "cell_type": "code",
   "execution_count": 1,
   "metadata": {},
   "outputs": [
    {
     "name": "stderr",
     "output_type": "stream",
     "text": [
      "Using TensorFlow backend.\n"
     ]
    }
   ],
   "source": [
    "import sksurv\n",
    "import numpy as np\n",
    "\n",
    "from sksurv.linear_model import CoxPHSurvivalAnalysis\n",
    "from sksurv.linear_model import CoxnetSurvivalAnalysis\n",
    "from lifelines.utils import concordance_index\n",
    "\n",
    "from utils import DataLoader\n",
    "import seaborn as sns\n",
    "\n",
    "%matplotlib inline\n",
    "from matplotlib import pyplot as plt"
   ]
  },
  {
   "cell_type": "code",
   "execution_count": 3,
   "metadata": {},
   "outputs": [],
   "source": [
    "## move to utils\n",
    "\n",
    "def get_structured_array(data_bool, data_value):\n",
    "    all_bools = data_bool.cpu().detach().numpy()\n",
    "    all_values = data_value.cpu().detach().numpy()\n",
    "\n",
    "    new_list = []\n",
    "    for idx in range(len(all_bools)):\n",
    "        new_list.append(tuple((all_bools[idx], all_values[idx])))\n",
    "    return np.array(new_list, dtype='bool, i8')"
   ]
  },
  {
   "cell_type": "code",
   "execution_count": 6,
   "metadata": {},
   "outputs": [
    {
     "name": "stdout",
     "output_type": "stream",
     "text": [
      "mode valid\n",
      "location data/stanford/labels/recurrence/\n",
      "mode test\n",
      "location data/stanford/labels/recurrence/\n",
      "Training size (74,)\n",
      "Validation set (11,)\n",
      "Test set (22,)\n",
      "mode valid\n",
      "location data/stanford/labels/recurrence/\n",
      "mode test\n",
      "location data/stanford/labels/recurrence/\n",
      "Training size (74,)\n",
      "Validation set (11,)\n",
      "Test set (22,)\n",
      "mode valid\n",
      "location data/stanford/labels/recurrence/\n",
      "mode test\n",
      "location data/stanford/labels/recurrence/\n",
      "Training size (75,)\n",
      "Validation set (11,)\n",
      "Test set (21,)\n",
      "mode valid\n",
      "location data/stanford/labels/recurrence/\n",
      "mode test\n",
      "location data/stanford/labels/recurrence/\n",
      "Training size (75,)\n",
      "Validation set (11,)\n",
      "Test set (21,)\n",
      "mode valid\n",
      "location data/stanford/labels/recurrence/\n",
      "mode test\n",
      "location data/stanford/labels/recurrence/\n",
      "Training size (75,)\n",
      "Validation set (11,)\n",
      "Test set (21,)\n"
     ]
    }
   ],
   "source": [
    "n_alphas = 100\n",
    "l1_ratio = 0.3\n",
    "num_genes = 500\n",
    "\n",
    "all_indices = []\n",
    "\n",
    "for fold_num in range(5):\n",
    "\n",
    "    curr_indices = []\n",
    "\n",
    "    data = DataLoader(fold=fold_num, num_genes=num_genes)\n",
    "    y_train = get_structured_array(data.y_train_bool, data.y_train_value)\n",
    "    print('Training size', y_train.shape)\n",
    "    y_valid = get_structured_array(data.y_valid_bool, data.y_valid_value)\n",
    "    print('Validation set', y_valid.shape)\n",
    "    y_test = get_structured_array(data.y_test_bool, data.y_test_value)\n",
    "    print('Test set', y_test.shape)\n",
    "\n",
    "    ##### Genomics\n",
    "\n",
    "    coxnet = CoxnetSurvivalAnalysis(l1_ratio=l1_ratio, n_alphas=n_alphas)\n",
    "    coxnet.fit(data.gen_train.cpu().detach().numpy(), \n",
    "               y_train)\n",
    "    gen_outputs = coxnet.predict(data.gen_test.cpu().detach().numpy())\n",
    "\n",
    "    curr_indices.append(coxnet.score(data.gen_test.cpu().detach().numpy(), y_test))\n",
    "\n",
    "    ##### Pyradiomics\n",
    "\n",
    "    coxnet = CoxnetSurvivalAnalysis(l1_ratio=l1_ratio, n_alphas=n_alphas)\n",
    "    coxnet.fit(data.pyrad_train.cpu().detach().numpy(), \n",
    "               y_train)\n",
    "\n",
    "    pyrad_outputs = coxnet.predict(data.pyrad_test.cpu().detach().numpy())\n",
    "    curr_indices.append(coxnet.score(data.pyrad_test.cpu().detach().numpy(), y_test))\n",
    "\n",
    "    ##### Densenet\n",
    "\n",
    "    coxnet = CoxnetSurvivalAnalysis(l1_ratio=l1_ratio, n_alphas=n_alphas)\n",
    "    coxnet.fit(data.dense_train.cpu().detach().numpy(), \n",
    "               y_train)\n",
    "    dense_outputs = coxnet.predict(data.dense_test.cpu().detach().numpy())\n",
    "    curr_indices.append(coxnet.score(data.dense_test.cpu().detach().numpy(), y_test))\n",
    "\n",
    "    ##### Genomics-PyRadiomics\n",
    "\n",
    "    coxnet = CoxnetSurvivalAnalysis(l1_ratio=l1_ratio, n_alphas=n_alphas)\n",
    "    feat_train = np.concatenate((data.gen_train.cpu().detach().numpy(), \n",
    "                                 data.pyrad_train.cpu().detach().numpy()), axis=1)\n",
    "    coxnet.fit(feat_train, y_train)\n",
    "    feat_valid = np.concatenate((data.gen_valid.cpu().detach().numpy(), \n",
    "                                 data.pyrad_valid.cpu().detach().numpy()), axis=1)\n",
    "    feat_test = np.concatenate((data.gen_test.cpu().detach().numpy(), \n",
    "                                 data.pyrad_test.cpu().detach().numpy()), axis=1)\n",
    "    feat1_outputs = coxnet.predict(feat_test)\n",
    "    curr_indices.append(coxnet.score(feat_test, y_test))\n",
    "    curr_indices.append(concordance_index(data.y_test_value.cpu().detach().numpy(),\n",
    "                                                -gen_outputs-pyrad_outputs,\n",
    "                                               data.y_test_bool.cpu().detach().numpy()))\n",
    "    ##### Genomics-DenseNet\n",
    "\n",
    "    coxnet = CoxnetSurvivalAnalysis(l1_ratio=l1_ratio, n_alphas=n_alphas)\n",
    "    feat_train = np.concatenate((data.gen_train.cpu().detach().numpy(), \n",
    "                                 data.dense_train.cpu().detach().numpy()), axis=1)\n",
    "    coxnet.fit(feat_train, y_train)\n",
    "    feat_valid = np.concatenate((data.gen_valid.cpu().detach().numpy(), \n",
    "                                 data.dense_valid.cpu().detach().numpy()), axis=1)\n",
    "    feat_test = np.concatenate((data.gen_test.cpu().detach().numpy(), \n",
    "                                 data.dense_test.cpu().detach().numpy()), axis=1)\n",
    "    feat2_outputs = coxnet.predict(feat_test)\n",
    "    curr_indices.append(coxnet.score(feat_test, y_test))\n",
    "    curr_indices.append(concordance_index(data.y_test_value.cpu().detach().numpy(),\n",
    "                                                -gen_outputs-dense_outputs,\n",
    "                                               data.y_test_bool.cpu().detach().numpy()))\n",
    "\n",
    "    ##### Genomics-PyRadiomics-DenseNet\n",
    "\n",
    "    coxnet = CoxnetSurvivalAnalysis(l1_ratio=l1_ratio, n_alphas=n_alphas)\n",
    "    feat_train = np.concatenate((data.gen_train.cpu().detach().numpy(), \n",
    "                                 data.pyrad_train.cpu().detach().numpy(),\n",
    "                                 data.dense_train.cpu().detach().numpy()), axis=1)\n",
    "    coxnet.fit(feat_train, y_train)\n",
    "    feat_valid = np.concatenate((data.gen_valid.cpu().detach().numpy(), \n",
    "                                 data.pyrad_valid.cpu().detach().numpy(),\n",
    "                                 data.dense_valid.cpu().detach().numpy()), axis=1)\n",
    "    feat_test = np.concatenate((data.gen_test.cpu().detach().numpy(), \n",
    "                                data.pyrad_test.cpu().detach().numpy(),\n",
    "                                data.dense_test.cpu().detach().numpy()), axis=1)\n",
    "    feat3_outputs = coxnet.predict(feat_test)\n",
    "    curr_indices.append(coxnet.score(feat_test, y_test))\n",
    "    curr_indices.append(concordance_index(data.y_test_value.cpu().detach().numpy(),\n",
    "                                                -gen_outputs-pyrad_outputs-dense_outputs,\n",
    "                                               data.y_test_bool.cpu().detach().numpy()))\n",
    "\n",
    "    all_indices.append(curr_indices)"
   ]
  },
  {
   "cell_type": "code",
   "execution_count": 27,
   "metadata": {},
   "outputs": [],
   "source": [
    "methods = ['genomics \\t ', 'pyradiomics \\t', 'densenet \\t',\n",
    "           'gen-pyrad (ef) \\t', 'gen-pyrad (lf) \\t', 'gen-dense (ef) \\t', 'gen-dense (lf) \\t',\n",
    "           'gen-pyrad-dense (ef)', 'gen-pyrad-dense (lf)',]"
   ]
  },
  {
   "cell_type": "code",
   "execution_count": 33,
   "metadata": {},
   "outputs": [
    {
     "name": "stdout",
     "output_type": "stream",
     "text": [
      "method \t\t \t|fd 1|fd 2|fd 3|fd 4|fd 5\n",
      "-------------------------------------------------\n",
      "genomics \t \t|0.52|0.45|0.60|0.72|0.75\n",
      "pyradiomics \t\t|0.46|0.39|0.30|0.37|0.80\n",
      "densenet \t\t|0.53|0.49|0.44|0.65|0.52\n",
      "gen-pyrad (ef) \t\t|0.41|0.36|0.46|0.57|0.81\n",
      "gen-pyrad (lf) \t\t|0.41|0.42|0.49|0.60|0.81\n",
      "gen-dense (ef) \t\t|0.53|0.46|0.60|0.80|0.77\n",
      "gen-dense (lf) \t\t|0.49|0.50|0.55|0.82|0.59\n",
      "gen-pyrad-dense (ef)\t|0.43|0.37|0.47|0.61|0.82\n",
      "gen-pyrad-dense (lf)\t|0.46|0.46|0.51|0.81|0.60\n"
     ]
    }
   ],
   "source": [
    "print('method \\t\\t \\t|fd 1|fd 2|fd 3|fd 4|fd 5')\n",
    "print('-------------------------------------------------')\n",
    "for y in range(len(all_indices[0])):\n",
    "    print(methods[y]  + '\\t|' + '|'.join([\"{0:.2f}\".format(round(x[y], 2)) for x in all_indices]))"
   ]
  },
  {
   "cell_type": "code",
   "execution_count": null,
   "metadata": {},
   "outputs": [],
   "source": []
  }
 ],
 "metadata": {
  "kernelspec": {
   "display_name": "Python3 (radiogenomics)",
   "language": "python",
   "name": "radiogenomics"
  },
  "language_info": {
   "codemirror_mode": {
    "name": "ipython",
    "version": 3
   },
   "file_extension": ".py",
   "mimetype": "text/x-python",
   "name": "python",
   "nbconvert_exporter": "python",
   "pygments_lexer": "ipython3",
   "version": "3.5.2"
  }
 },
 "nbformat": 4,
 "nbformat_minor": 2
}
